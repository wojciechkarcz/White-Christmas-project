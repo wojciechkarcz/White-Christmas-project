{
 "cells": [
  {
   "attachments": {},
   "cell_type": "markdown",
   "metadata": {},
   "source": [
    "# Data analysis\n",
    "\n",
    "In the previous notebook, all the data that will allow to answer the following questions has been obtained:\n",
    "- What is the chance of snow on Christmas Day, December 25th?\n",
    "- What is the chance of snow on that day depending on the region of Poland?\n",
    "- What was the situation with snow on Christmas over the last 70 years in Poland? "
   ]
  },
  {
   "attachments": {},
   "cell_type": "markdown",
   "metadata": {},
   "source": [
    "## First look at the data\n",
    "\n",
    "After obtaining and cleaning the data, let's check the basic statistics related to the dataset."
   ]
  },
  {
   "cell_type": "code",
   "execution_count": 2,
   "metadata": {},
   "outputs": [],
   "source": [
    "import pandas as pd\n",
    "import matplotlib.pyplot as plt\n",
    "\n",
    "df = pd.read_csv('data/snow_data_all_filtered.csv')"
   ]
  },
  {
   "cell_type": "code",
   "execution_count": 7,
   "metadata": {},
   "outputs": [
    {
     "data": {
      "text/html": [
       "<div>\n",
       "<style scoped>\n",
       "    .dataframe tbody tr th:only-of-type {\n",
       "        vertical-align: middle;\n",
       "    }\n",
       "\n",
       "    .dataframe tbody tr th {\n",
       "        vertical-align: top;\n",
       "    }\n",
       "\n",
       "    .dataframe thead th {\n",
       "        text-align: right;\n",
       "    }\n",
       "</style>\n",
       "<table border=\"1\" class=\"dataframe\">\n",
       "  <thead>\n",
       "    <tr style=\"text-align: right;\">\n",
       "      <th></th>\n",
       "      <th>station_id</th>\n",
       "      <th>station_name</th>\n",
       "      <th>year</th>\n",
       "      <th>snow</th>\n",
       "      <th>t_mean</th>\n",
       "      <th>lon</th>\n",
       "      <th>lat</th>\n",
       "    </tr>\n",
       "  </thead>\n",
       "  <tbody>\n",
       "    <tr>\n",
       "      <th>884</th>\n",
       "      <td>251170150</td>\n",
       "      <td>GRABOWNICA</td>\n",
       "      <td>2006</td>\n",
       "      <td>0</td>\n",
       "      <td>3.3</td>\n",
       "      <td>17.450000</td>\n",
       "      <td>51.466667</td>\n",
       "    </tr>\n",
       "    <tr>\n",
       "      <th>7648</th>\n",
       "      <td>251170290</td>\n",
       "      <td>NAMYSŁÓW</td>\n",
       "      <td>1987</td>\n",
       "      <td>0</td>\n",
       "      <td>0.0</td>\n",
       "      <td>17.733333</td>\n",
       "      <td>51.083333</td>\n",
       "    </tr>\n",
       "    <tr>\n",
       "      <th>7695</th>\n",
       "      <td>253160090</td>\n",
       "      <td>WIERZCHOWO</td>\n",
       "      <td>1987</td>\n",
       "      <td>0</td>\n",
       "      <td>-0.3</td>\n",
       "      <td>16.116667</td>\n",
       "      <td>53.466667</td>\n",
       "    </tr>\n",
       "    <tr>\n",
       "      <th>8319</th>\n",
       "      <td>249200540</td>\n",
       "      <td>HALA GĄSIENICOWA</td>\n",
       "      <td>1991</td>\n",
       "      <td>67</td>\n",
       "      <td>-10.2</td>\n",
       "      <td>20.005833</td>\n",
       "      <td>49.244167</td>\n",
       "    </tr>\n",
       "    <tr>\n",
       "      <th>3528</th>\n",
       "      <td>252200150</td>\n",
       "      <td>WARSZAWA-BIELANY</td>\n",
       "      <td>1959</td>\n",
       "      <td>4</td>\n",
       "      <td>1.2</td>\n",
       "      <td>20.966667</td>\n",
       "      <td>52.283333</td>\n",
       "    </tr>\n",
       "  </tbody>\n",
       "</table>\n",
       "</div>"
      ],
      "text/plain": [
       "      station_id      station_name  year  snow  t_mean        lon        lat\n",
       "884    251170150        GRABOWNICA  2006     0     3.3  17.450000  51.466667\n",
       "7648   251170290          NAMYSŁÓW  1987     0     0.0  17.733333  51.083333\n",
       "7695   253160090        WIERZCHOWO  1987     0    -0.3  16.116667  53.466667\n",
       "8319   249200540  HALA GĄSIENICOWA  1991    67   -10.2  20.005833  49.244167\n",
       "3528   252200150  WARSZAWA-BIELANY  1959     4     1.2  20.966667  52.283333"
      ]
     },
     "execution_count": 7,
     "metadata": {},
     "output_type": "execute_result"
    }
   ],
   "source": [
    "# Quick preview of the dataframe \n",
    "\n",
    "df.sample(5)"
   ]
  },
  {
   "cell_type": "code",
   "execution_count": 8,
   "metadata": {},
   "outputs": [
    {
     "data": {
      "text/plain": [
       "count    10060.000000\n",
       "mean         5.439761\n",
       "std         11.411134\n",
       "min          0.000000\n",
       "25%          0.000000\n",
       "50%          0.000000\n",
       "75%          6.000000\n",
       "max        173.000000\n",
       "Name: snow, dtype: float64"
      ]
     },
     "execution_count": 8,
     "metadata": {},
     "output_type": "execute_result"
    }
   ],
   "source": [
    "df['snow'].describe()"
   ]
  },
  {
   "attachments": {},
   "cell_type": "markdown",
   "metadata": {},
   "source": [
    "There are ~10k records in the dataset and the average snow cover for all data is ~5.4 cm. However, the median is 0 cm and the 75th percentile is 6 cm. Let's check the snow cover size distribution on the histogram."
   ]
  },
  {
   "cell_type": "code",
   "execution_count": 17,
   "metadata": {},
   "outputs": [
    {
     "data": {
      "text/plain": [
       "Text(0.5, 0, 'snow cover [cm]')"
      ]
     },
     "execution_count": 17,
     "metadata": {},
     "output_type": "execute_result"
    },
    {
     "data": {
      "image/png": "[encoded data removed]",
      "text/plain": [
       "<Figure size 648x504 with 1 Axes>"
      ]
     },
     "metadata": {
      "needs_background": "light"
     },
     "output_type": "display_data"
    }
   ],
   "source": [
    "plt.figure(figsize=(9, 7))\n",
    "ax = df['snow'].hist(bins=50, edgecolor='k', range=[0,50])\n",
    "ax.set_xlabel('snow cover [cm]')"
   ]
  },
  {
   "attachments": {},
   "cell_type": "markdown",
   "metadata": {},
   "source": [
    "As the histogram clearly shows, more than half of all snow cover measurements in the entire dataset are 0 cm.\n",
    "  \n",
    "Let's check what the average temperature distribution looks like for December 25th."
   ]
  },
  {
   "cell_type": "code",
   "execution_count": 18,
   "metadata": {},
   "outputs": [
    {
     "data": {
      "text/plain": [
       "count    10060.000000\n",
       "mean        -1.320765\n",
       "std          5.421824\n",
       "min        -32.800000\n",
       "25%         -4.200000\n",
       "50%         -0.600000\n",
       "75%          2.300000\n",
       "max         13.000000\n",
       "Name: t_mean, dtype: float64"
      ]
     },
     "execution_count": 18,
     "metadata": {},
     "output_type": "execute_result"
    }
   ],
   "source": [
    "df['t_mean'].describe()"
   ]
  },
  {
   "cell_type": "code",
   "execution_count": 21,
   "metadata": {},
   "outputs": [
    {
     "data": {
      "text/plain": [
       "Text(0.5, 0, 'average temperature [*C]')"
      ]
     },
     "execution_count": 21,
     "metadata": {},
     "output_type": "execute_result"
    },
    {
     "data": {
      "image/png": "[encoded data removed]",
      "text/plain": [
       "<Figure size 648x504 with 1 Axes>"
      ]
     },
     "metadata": {
      "needs_background": "light"
     },
     "output_type": "display_data"
    }
   ],
   "source": [
    "plt.figure(figsize=(9, 7))\n",
    "ax = df['t_mean'].hist(bins=50, edgecolor='k')\n",
    "ax.set_xlabel('average temperature [*C]')"
   ]
  },
  {
   "cell_type": "code",
   "execution_count": 27,
   "metadata": {},
   "outputs": [
    {
     "data": {
      "text/plain": [
       "station_id      4359\n",
       "station_name    4359\n",
       "year            4359\n",
       "snow            4359\n",
       "t_mean          4359\n",
       "lon             4359\n",
       "lat             4359\n",
       "dtype: int64"
      ]
     },
     "execution_count": 27,
     "metadata": {},
     "output_type": "execute_result"
    }
   ],
   "source": [
    "# Quick calculation how many records contain the average temperature above zero\n",
    "\n",
    "df.loc[df['t_mean'] > 0].count()"
   ]
  },
  {
   "attachments": {},
   "cell_type": "markdown",
   "metadata": {},
   "source": [
    "The average temperature for the entire dataset is -1.3 *C, and the median is closer to zero and is -0.6 *C. As you can see in the histogram, on this day the air temperature usually oscillates around 0 * C and around 43% of all measurements are above zero."
   ]
  },
  {
   "attachments": {},
   "cell_type": "markdown",
   "metadata": {},
   "source": [
    "The above observations apply to the entire dataset. However, the measurements have been carried out for more than 70 years and each winter is different.\n",
    "Let's check what the average snow cover looked like depending on the year by creating a simple bar plot."
   ]
  },
  {
   "cell_type": "code",
   "execution_count": 42,
   "metadata": {},
   "outputs": [
    {
     "data": {
      "text/plain": [
       "Text(0, 0.5, 'snow cover [cm]')"
      ]
     },
     "execution_count": 42,
     "metadata": {},
     "output_type": "execute_result"
    },
    {
     "data": {
      "image/png": "[encoded data removed]",
      "text/plain": [
       "<Figure size 936x432 with 1 Axes>"
      ]
     },
     "metadata": {
      "needs_background": "light"
     },
     "output_type": "display_data"
    }
   ],
   "source": [
    "plt.figure(figsize=(13, 6))\n",
    "\n",
    "ax = df.groupby('year')['snow'].agg('mean').plot.bar(x='year', rot=30)\n",
    "ticks = ax.xaxis.get_ticklocs()\n",
    "ax.xaxis.set_ticks(ticks[::10])\n",
    "ax.set_ylabel('snow cover [cm]')"
   ]
  },
  {
   "attachments": {},
   "cell_type": "markdown",
   "metadata": {},
   "source": [
    "Creating this chart, we take into account the average snow cover from all stations across the country, which is not very reliable information, but it gives a general overview of ​​what the snow situation was in a given year.\n",
    "\n",
    "However, based on such general information, some interesting conclusions can be drawn:\n",
    "- Every year is different and there is no one repeatable pattern. There are years with absolutely no snow and with quite a lot of it.\n",
    "- Every few years (approx. 5-10 years) we have very snowy Christmas, where the average snow cover for the whole country is 10 cm higher.\n",
    "- The snowiest Christmas was in 2001, and the last with a lot of snow was recently in 2021.\n",
    "- Paradoxically, there was the least snow on Christmas in the 70s (4 years without snow) and 80s."
   ]
  },
  {
   "attachments": {},
   "cell_type": "markdown",
   "metadata": {},
   "source": [
    "## Weather stations\n",
    "\n",
    "In addition to numerical data (such as snow cover or temperature), the dataset also includes information on weather stations that have recorded meteorological data over the years. Let's check:\n",
    "- How many unique stations are in the dataset?\n",
    "- Whether the number of stations changed depending on the year?\n",
    "- Were there stations from which there are measurements throughout the 71-year period?\n",
    "- Where exactly are the stations located in Poland?"
   ]
  },
  {
   "cell_type": "code",
   "execution_count": 24,
   "metadata": {},
   "outputs": [
    {
     "data": {
      "text/plain": [
       "337"
      ]
     },
     "execution_count": 24,
     "metadata": {},
     "output_type": "execute_result"
    }
   ],
   "source": [
    "# How many unique weather stations are in the dataset?\n",
    "\n",
    "df['station_id'].nunique()"
   ]
  },
  {
   "attachments": {},
   "cell_type": "markdown",
   "metadata": {},
   "source": [
    "The data set includes data from ***337 weather stations***. Let's see how many stations recorded weather data each year."
   ]
  },
  {
   "cell_type": "code",
   "execution_count": 47,
   "metadata": {},
   "outputs": [
    {
     "data": {
      "text/plain": [
       "Text(0, 0.5, 'number of stations')"
      ]
     },
     "execution_count": 47,
     "metadata": {},
     "output_type": "execute_result"
    },
    {
     "data": {
      "image/png": "[encoded data removed]",
      "text/plain": [
       "<Figure size 1008x432 with 1 Axes>"
      ]
     },
     "metadata": {
      "needs_background": "light"
     },
     "output_type": "display_data"
    }
   ],
   "source": [
    "plt.figure(figsize=(14, 6))\n",
    "\n",
    "ax = df.groupby('year')['station_id'].count().plot.bar(x='year', rot=30)\n",
    "ticks = ax.xaxis.get_ticklocs()\n",
    "ax.xaxis.set_ticks(ticks[::10])\n",
    "ax.set_ylabel('number of stations')"
   ]
  },
  {
   "attachments": {},
   "cell_type": "markdown",
   "metadata": {},
   "source": [
    "As we might expect, a different number of weather stations provided data each year. Let's check the number of stations from which we have data for the entire period (from 1951 to 2021)."
   ]
  },
  {
   "cell_type": "code",
   "execution_count": 48,
   "metadata": {},
   "outputs": [
    {
     "data": {
      "text/plain": [
       "station_name\n",
       "DYNÓW                   71\n",
       "KOŁUDA WIELKA           71\n",
       "KRAKÓW-OBSERWATORIUM    71\n",
       "LEGIONOWO               71\n",
       "LIDZBARK WARMIŃSKI      71\n",
       "PUCZNIEW                71\n",
       "PUŁAWY                  71\n",
       "PUŁTUSK                 71\n",
       "SKIERNIEWICE            71\n",
       "SZEPIETOWO              71\n",
       "WARSZAWA-BIELANY        71\n",
       "Name: year, dtype: int64"
      ]
     },
     "execution_count": 48,
     "metadata": {},
     "output_type": "execute_result"
    }
   ],
   "source": [
    "df.groupby('station_name')['year'].agg('count').loc[lambda x: x > 70]"
   ]
  },
  {
   "attachments": {},
   "cell_type": "markdown",
   "metadata": {},
   "source": [
    "It turned out that only ***11 stations*** provided measurements each year."
   ]
  },
  {
   "attachments": {},
   "cell_type": "markdown",
   "metadata": {},
   "source": [
    "Let's check where exactly the weather stations are located in Poland. We'll use the Basemap python library to perform that task. "
   ]
  },
  {
   "cell_type": "code",
   "execution_count": 1,
   "metadata": {},
   "outputs": [],
   "source": [
    "from mpl_toolkits.basemap import Basemap"
   ]
  },
  {
   "cell_type": "code",
   "execution_count": 17,
   "metadata": {},
   "outputs": [],
   "source": [
    "# Creating a list of all station names\n",
    "\n",
    "station_names = df['station_name'].unique()"
   ]
  },
  {
   "cell_type": "code",
   "execution_count": 27,
   "metadata": {},
   "outputs": [
    {
     "data": {
      "text/html": [
       "<div>\n",
       "<style scoped>\n",
       "    .dataframe tbody tr th:only-of-type {\n",
       "        vertical-align: middle;\n",
       "    }\n",
       "\n",
       "    .dataframe tbody tr th {\n",
       "        vertical-align: top;\n",
       "    }\n",
       "\n",
       "    .dataframe thead th {\n",
       "        text-align: right;\n",
       "    }\n",
       "</style>\n",
       "<table border=\"1\" class=\"dataframe\">\n",
       "  <thead>\n",
       "    <tr style=\"text-align: right;\">\n",
       "      <th></th>\n",
       "      <th>station_name</th>\n",
       "      <th>lat</th>\n",
       "      <th>lon</th>\n",
       "    </tr>\n",
       "  </thead>\n",
       "  <tbody>\n",
       "    <tr>\n",
       "      <th>2765</th>\n",
       "      <td>OLSZTYN</td>\n",
       "      <td>53.771111</td>\n",
       "      <td>20.422778</td>\n",
       "    </tr>\n",
       "    <tr>\n",
       "      <th>3844</th>\n",
       "      <td>SZCZUCZYN</td>\n",
       "      <td>53.566667</td>\n",
       "      <td>22.283333</td>\n",
       "    </tr>\n",
       "    <tr>\n",
       "      <th>7479</th>\n",
       "      <td>BEŁCHATÓW</td>\n",
       "      <td>51.400000</td>\n",
       "      <td>19.366667</td>\n",
       "    </tr>\n",
       "    <tr>\n",
       "      <th>84</th>\n",
       "      <td>JAROCIN</td>\n",
       "      <td>50.566667</td>\n",
       "      <td>22.300000</td>\n",
       "    </tr>\n",
       "    <tr>\n",
       "      <th>589</th>\n",
       "      <td>WARSZAWA-FILTRY</td>\n",
       "      <td>52.219444</td>\n",
       "      <td>20.999167</td>\n",
       "    </tr>\n",
       "  </tbody>\n",
       "</table>\n",
       "</div>"
      ],
      "text/plain": [
       "         station_name        lat        lon\n",
       "2765          OLSZTYN  53.771111  20.422778\n",
       "3844        SZCZUCZYN  53.566667  22.283333\n",
       "7479        BEŁCHATÓW  51.400000  19.366667\n",
       "84            JAROCIN  50.566667  22.300000\n",
       "589   WARSZAWA-FILTRY  52.219444  20.999167"
      ]
     },
     "execution_count": 27,
     "metadata": {},
     "output_type": "execute_result"
    }
   ],
   "source": [
    "# Creating a dataframe with station name and geographical coordinates\n",
    "\n",
    "stations_coord = df.loc[df['station_name'].isin(station_names)][['station_name','lat','lon']].drop_duplicates(subset=['station_name'], keep = 'first')\n",
    "stations_coord.sample(5)"
   ]
  },
  {
   "cell_type": "code",
   "execution_count": 29,
   "metadata": {},
   "outputs": [],
   "source": [
    "# Converting latitude and longitude data into a numpy array\n",
    "\n",
    "import numpy as np\n",
    "\n",
    "lons_stations = np.array(stations_coord['lon'])\n",
    "lats_stations = np.array(stations_coord['lat'])"
   ]
  },
  {
   "cell_type": "code",
   "execution_count": 33,
   "metadata": {},
   "outputs": [
    {
     "data": {
      "image/png": "[encoded data removed]",
      "text/plain": [
       "<Figure size 800x800 with 1 Axes>"
      ]
     },
     "metadata": {},
     "output_type": "display_data"
    }
   ],
   "source": [
    "fig, ax = plt.subplots(figsize=(8,8))\n",
    "\n",
    "m = Basemap(projection='merc',\n",
    "            resolution='i',llcrnrlat=49,urcrnrlat=55,llcrnrlon=13,urcrnrlon=25)\n",
    "\n",
    "m.drawcoastlines()\n",
    "m.drawmapboundary()\n",
    "m.drawcountries(linewidth=1, linestyle='solid', color='k' ) \n",
    "\n",
    "lonsm, latsm = m(lons_stations, lats_stations)\n",
    "\n",
    "m.scatter(lonsm, latsm, marker = '.', color='r')\n",
    "\n",
    "plt.show()"
   ]
  },
  {
   "attachments": {},
   "cell_type": "markdown",
   "metadata": {},
   "source": [
    "As shown on the map, weather stations form a dense network throughout Poland. Thanks to this, we have data on the occurrence of snow in every region of the country"
   ]
  },
  {
   "attachments": {},
   "cell_type": "markdown",
   "metadata": {},
   "source": [
    "## Calculating the snow occurence ratio\n",
    "\n",
    "The main purpose of this analysis is to check, based on historical meteorological data, what is the chance of snow on Christmas Day in Poland. \n",
    "\n",
    "For this we need to create a new dataframe with snowy years counted for each weather station. For the purposes of this analysis, we assume that snowy Christmas are when there is ***at least 2 cm*** of snow cover. Next, we need to create a new column where all snow years will be divided by the total number of years when measurements have been taken for a particular station."
   ]
  },
  {
   "cell_type": "code",
   "execution_count": 3,
   "metadata": {},
   "outputs": [],
   "source": [
    "# Creating the Series with station names\n",
    "station_name = df.groupby('station_id').first()['station_name']\n",
    "\n",
    "# Creating the Series with number of total years of measurements\n",
    "total_years = df.groupby('station_id')['station_name'].count()\n",
    "\n",
    "# Creating the Series with all snowy years counted (with snow cover of at least 2 cm)\n",
    "snowy_years = df.groupby('station_id').apply(lambda x: x[x['snow'] >= 2 ]['year'].count())\n",
    "\n",
    "# Creating the Series with calculated snow occurrence ratio (simply dividing number of snowy years by number of total years for each station)\n",
    "snow_occurr = snowy_years / total_years"
   ]
  },
  {
   "cell_type": "code",
   "execution_count": 4,
   "metadata": {},
   "outputs": [
    {
     "data": {
      "text/html": [
       "<div>\n",
       "<style scoped>\n",
       "    .dataframe tbody tr th:only-of-type {\n",
       "        vertical-align: middle;\n",
       "    }\n",
       "\n",
       "    .dataframe tbody tr th {\n",
       "        vertical-align: top;\n",
       "    }\n",
       "\n",
       "    .dataframe thead th {\n",
       "        text-align: right;\n",
       "    }\n",
       "</style>\n",
       "<table border=\"1\" class=\"dataframe\">\n",
       "  <thead>\n",
       "    <tr style=\"text-align: right;\">\n",
       "      <th></th>\n",
       "      <th>station_name</th>\n",
       "      <th>total_years</th>\n",
       "      <th>snowy_years</th>\n",
       "      <th>snow_occurr</th>\n",
       "    </tr>\n",
       "    <tr>\n",
       "      <th>station_id</th>\n",
       "      <th></th>\n",
       "      <th></th>\n",
       "      <th></th>\n",
       "      <th></th>\n",
       "    </tr>\n",
       "  </thead>\n",
       "  <tbody>\n",
       "    <tr>\n",
       "      <th>249200550</th>\n",
       "      <td>DOLINA PIĘCIU STAWÓW</td>\n",
       "      <td>31</td>\n",
       "      <td>31</td>\n",
       "      <td>1.000000</td>\n",
       "    </tr>\n",
       "    <tr>\n",
       "      <th>249190140</th>\n",
       "      <td>LESKOWIEC</td>\n",
       "      <td>5</td>\n",
       "      <td>5</td>\n",
       "      <td>1.000000</td>\n",
       "    </tr>\n",
       "    <tr>\n",
       "      <th>249229989</th>\n",
       "      <td>ŻUBRACZE</td>\n",
       "      <td>7</td>\n",
       "      <td>7</td>\n",
       "      <td>1.000000</td>\n",
       "    </tr>\n",
       "    <tr>\n",
       "      <th>349190650</th>\n",
       "      <td>KASPROWY WIERCH</td>\n",
       "      <td>15</td>\n",
       "      <td>15</td>\n",
       "      <td>1.000000</td>\n",
       "    </tr>\n",
       "    <tr>\n",
       "      <th>250150170</th>\n",
       "      <td>JAKUSZYCE</td>\n",
       "      <td>21</td>\n",
       "      <td>20</td>\n",
       "      <td>0.952381</td>\n",
       "    </tr>\n",
       "    <tr>\n",
       "      <th>350150510</th>\n",
       "      <td>ŚNIEŻKA</td>\n",
       "      <td>15</td>\n",
       "      <td>14</td>\n",
       "      <td>0.933333</td>\n",
       "    </tr>\n",
       "    <tr>\n",
       "      <th>249200540</th>\n",
       "      <td>HALA GĄSIENICOWA</td>\n",
       "      <td>28</td>\n",
       "      <td>26</td>\n",
       "      <td>0.928571</td>\n",
       "    </tr>\n",
       "    <tr>\n",
       "      <th>249190320</th>\n",
       "      <td>LUBOŃ WIELKI</td>\n",
       "      <td>10</td>\n",
       "      <td>9</td>\n",
       "      <td>0.900000</td>\n",
       "    </tr>\n",
       "    <tr>\n",
       "      <th>249180260</th>\n",
       "      <td>ISTEBNA-KUBALONKA</td>\n",
       "      <td>28</td>\n",
       "      <td>25</td>\n",
       "      <td>0.892857</td>\n",
       "    </tr>\n",
       "    <tr>\n",
       "      <th>249200510</th>\n",
       "      <td>PORONIN</td>\n",
       "      <td>18</td>\n",
       "      <td>16</td>\n",
       "      <td>0.888889</td>\n",
       "    </tr>\n",
       "  </tbody>\n",
       "</table>\n",
       "</div>"
      ],
      "text/plain": [
       "                    station_name  total_years  snowy_years  snow_occurr\n",
       "station_id                                                             \n",
       "249200550   DOLINA PIĘCIU STAWÓW           31           31     1.000000\n",
       "249190140              LESKOWIEC            5            5     1.000000\n",
       "249229989               ŻUBRACZE            7            7     1.000000\n",
       "349190650        KASPROWY WIERCH           15           15     1.000000\n",
       "250150170              JAKUSZYCE           21           20     0.952381\n",
       "350150510                ŚNIEŻKA           15           14     0.933333\n",
       "249200540       HALA GĄSIENICOWA           28           26     0.928571\n",
       "249190320           LUBOŃ WIELKI           10            9     0.900000\n",
       "249180260      ISTEBNA-KUBALONKA           28           25     0.892857\n",
       "249200510                PORONIN           18           16     0.888889"
      ]
     },
     "execution_count": 4,
     "metadata": {},
     "output_type": "execute_result"
    }
   ],
   "source": [
    "# Merging all Series into one final dataframe\n",
    "\n",
    "snow_total = pd.concat({\"station_name\":station_name,\"total_years\":total_years,\"snowy_years\":snowy_years,\"snow_occurr\":snow_occurr}, axis=1)\n",
    "snow_total.sort_values(by='snow_occurr', ascending=False).head(10)"
   ]
  },
  {
   "attachments": {},
   "cell_type": "markdown",
   "metadata": {},
   "source": [
    "Above is a table with stations ranked by the frequency of snow on Christmas. At the very top, of course, we will find stations located in the mountains, where there is almost always snow during this period."
   ]
  },
  {
   "attachments": {},
   "cell_type": "markdown",
   "metadata": {},
   "source": [
    "Let's check the snow occurrence ratio for weather stations with the highest number of total years."
   ]
  },
  {
   "cell_type": "code",
   "execution_count": 5,
   "metadata": {},
   "outputs": [
    {
     "data": {
      "text/html": [
       "<div>\n",
       "<style scoped>\n",
       "    .dataframe tbody tr th:only-of-type {\n",
       "        vertical-align: middle;\n",
       "    }\n",
       "\n",
       "    .dataframe tbody tr th {\n",
       "        vertical-align: top;\n",
       "    }\n",
       "\n",
       "    .dataframe thead th {\n",
       "        text-align: right;\n",
       "    }\n",
       "</style>\n",
       "<table border=\"1\" class=\"dataframe\">\n",
       "  <thead>\n",
       "    <tr style=\"text-align: right;\">\n",
       "      <th></th>\n",
       "      <th>station_name</th>\n",
       "      <th>total_years</th>\n",
       "      <th>snowy_years</th>\n",
       "      <th>snow_occurr</th>\n",
       "    </tr>\n",
       "    <tr>\n",
       "      <th>station_id</th>\n",
       "      <th></th>\n",
       "      <th></th>\n",
       "      <th></th>\n",
       "      <th></th>\n",
       "    </tr>\n",
       "  </thead>\n",
       "  <tbody>\n",
       "    <tr>\n",
       "      <th>252220030</th>\n",
       "      <td>SZEPIETOWO</td>\n",
       "      <td>71</td>\n",
       "      <td>26</td>\n",
       "      <td>0.366197</td>\n",
       "    </tr>\n",
       "    <tr>\n",
       "      <th>251210120</th>\n",
       "      <td>PUŁAWY</td>\n",
       "      <td>71</td>\n",
       "      <td>23</td>\n",
       "      <td>0.323944</td>\n",
       "    </tr>\n",
       "    <tr>\n",
       "      <th>251190050</th>\n",
       "      <td>PUCZNIEW</td>\n",
       "      <td>71</td>\n",
       "      <td>18</td>\n",
       "      <td>0.253521</td>\n",
       "    </tr>\n",
       "    <tr>\n",
       "      <th>252180080</th>\n",
       "      <td>KOŁUDA WIELKA</td>\n",
       "      <td>71</td>\n",
       "      <td>20</td>\n",
       "      <td>0.281690</td>\n",
       "    </tr>\n",
       "    <tr>\n",
       "      <th>252200120</th>\n",
       "      <td>LEGIONOWO</td>\n",
       "      <td>71</td>\n",
       "      <td>22</td>\n",
       "      <td>0.309859</td>\n",
       "    </tr>\n",
       "    <tr>\n",
       "      <th>252200150</th>\n",
       "      <td>WARSZAWA-BIELANY</td>\n",
       "      <td>71</td>\n",
       "      <td>23</td>\n",
       "      <td>0.323944</td>\n",
       "    </tr>\n",
       "    <tr>\n",
       "      <th>252210050</th>\n",
       "      <td>PUŁTUSK</td>\n",
       "      <td>71</td>\n",
       "      <td>22</td>\n",
       "      <td>0.309859</td>\n",
       "    </tr>\n",
       "    <tr>\n",
       "      <th>251200030</th>\n",
       "      <td>SKIERNIEWICE</td>\n",
       "      <td>71</td>\n",
       "      <td>14</td>\n",
       "      <td>0.197183</td>\n",
       "    </tr>\n",
       "    <tr>\n",
       "      <th>250190390</th>\n",
       "      <td>KRAKÓW-OBSERWATORIUM</td>\n",
       "      <td>71</td>\n",
       "      <td>26</td>\n",
       "      <td>0.366197</td>\n",
       "    </tr>\n",
       "    <tr>\n",
       "      <th>254200080</th>\n",
       "      <td>LIDZBARK WARMIŃSKI</td>\n",
       "      <td>71</td>\n",
       "      <td>33</td>\n",
       "      <td>0.464789</td>\n",
       "    </tr>\n",
       "    <tr>\n",
       "      <th>249220040</th>\n",
       "      <td>DYNÓW</td>\n",
       "      <td>71</td>\n",
       "      <td>31</td>\n",
       "      <td>0.436620</td>\n",
       "    </tr>\n",
       "    <tr>\n",
       "      <th>252230120</th>\n",
       "      <td>BIAŁOWIEŻA</td>\n",
       "      <td>70</td>\n",
       "      <td>40</td>\n",
       "      <td>0.571429</td>\n",
       "    </tr>\n",
       "    <tr>\n",
       "      <th>249200180</th>\n",
       "      <td>LIMANOWA</td>\n",
       "      <td>70</td>\n",
       "      <td>42</td>\n",
       "      <td>0.600000</td>\n",
       "    </tr>\n",
       "    <tr>\n",
       "      <th>252160230</th>\n",
       "      <td>WIELICHOWO</td>\n",
       "      <td>70</td>\n",
       "      <td>10</td>\n",
       "      <td>0.142857</td>\n",
       "    </tr>\n",
       "    <tr>\n",
       "      <th>252170210</th>\n",
       "      <td>KÓRNIK</td>\n",
       "      <td>69</td>\n",
       "      <td>16</td>\n",
       "      <td>0.231884</td>\n",
       "    </tr>\n",
       "    <tr>\n",
       "      <th>250230070</th>\n",
       "      <td>TOMASZÓW LUBELSKI</td>\n",
       "      <td>67</td>\n",
       "      <td>38</td>\n",
       "      <td>0.567164</td>\n",
       "    </tr>\n",
       "    <tr>\n",
       "      <th>249220180</th>\n",
       "      <td>KOMAŃCZA</td>\n",
       "      <td>66</td>\n",
       "      <td>44</td>\n",
       "      <td>0.666667</td>\n",
       "    </tr>\n",
       "    <tr>\n",
       "      <th>253210130</th>\n",
       "      <td>SZCZYTNO</td>\n",
       "      <td>66</td>\n",
       "      <td>28</td>\n",
       "      <td>0.424242</td>\n",
       "    </tr>\n",
       "    <tr>\n",
       "      <th>249180010</th>\n",
       "      <td>PSZCZYNA</td>\n",
       "      <td>66</td>\n",
       "      <td>22</td>\n",
       "      <td>0.333333</td>\n",
       "    </tr>\n",
       "    <tr>\n",
       "      <th>249200370</th>\n",
       "      <td>KROŚCIENKO</td>\n",
       "      <td>65</td>\n",
       "      <td>39</td>\n",
       "      <td>0.600000</td>\n",
       "    </tr>\n",
       "    <tr>\n",
       "      <th>249200260</th>\n",
       "      <td>ŁĄCKO</td>\n",
       "      <td>65</td>\n",
       "      <td>26</td>\n",
       "      <td>0.400000</td>\n",
       "    </tr>\n",
       "    <tr>\n",
       "      <th>253220070</th>\n",
       "      <td>BIEBRZA-PIEŃCZYKÓWEK</td>\n",
       "      <td>65</td>\n",
       "      <td>26</td>\n",
       "      <td>0.400000</td>\n",
       "    </tr>\n",
       "    <tr>\n",
       "      <th>252160110</th>\n",
       "      <td>SZAMOTUŁY-BABORÓWKO</td>\n",
       "      <td>64</td>\n",
       "      <td>14</td>\n",
       "      <td>0.218750</td>\n",
       "    </tr>\n",
       "    <tr>\n",
       "      <th>252170110</th>\n",
       "      <td>GNIEZNO</td>\n",
       "      <td>64</td>\n",
       "      <td>17</td>\n",
       "      <td>0.265625</td>\n",
       "    </tr>\n",
       "    <tr>\n",
       "      <th>253180020</th>\n",
       "      <td>RADOSTOWO</td>\n",
       "      <td>64</td>\n",
       "      <td>15</td>\n",
       "      <td>0.234375</td>\n",
       "    </tr>\n",
       "  </tbody>\n",
       "</table>\n",
       "</div>"
      ],
      "text/plain": [
       "                    station_name  total_years  snowy_years  snow_occurr\n",
       "station_id                                                             \n",
       "252220030             SZEPIETOWO           71           26     0.366197\n",
       "251210120                 PUŁAWY           71           23     0.323944\n",
       "251190050               PUCZNIEW           71           18     0.253521\n",
       "252180080          KOŁUDA WIELKA           71           20     0.281690\n",
       "252200120              LEGIONOWO           71           22     0.309859\n",
       "252200150       WARSZAWA-BIELANY           71           23     0.323944\n",
       "252210050                PUŁTUSK           71           22     0.309859\n",
       "251200030           SKIERNIEWICE           71           14     0.197183\n",
       "250190390   KRAKÓW-OBSERWATORIUM           71           26     0.366197\n",
       "254200080     LIDZBARK WARMIŃSKI           71           33     0.464789\n",
       "249220040                  DYNÓW           71           31     0.436620\n",
       "252230120             BIAŁOWIEŻA           70           40     0.571429\n",
       "249200180               LIMANOWA           70           42     0.600000\n",
       "252160230             WIELICHOWO           70           10     0.142857\n",
       "252170210                 KÓRNIK           69           16     0.231884\n",
       "250230070      TOMASZÓW LUBELSKI           67           38     0.567164\n",
       "249220180               KOMAŃCZA           66           44     0.666667\n",
       "253210130               SZCZYTNO           66           28     0.424242\n",
       "249180010               PSZCZYNA           66           22     0.333333\n",
       "249200370             KROŚCIENKO           65           39     0.600000\n",
       "249200260                  ŁĄCKO           65           26     0.400000\n",
       "253220070   BIEBRZA-PIEŃCZYKÓWEK           65           26     0.400000\n",
       "252160110    SZAMOTUŁY-BABORÓWKO           64           14     0.218750\n",
       "252170110                GNIEZNO           64           17     0.265625\n",
       "253180020              RADOSTOWO           64           15     0.234375"
      ]
     },
     "execution_count": 5,
     "metadata": {},
     "output_type": "execute_result"
    }
   ],
   "source": [
    "snow_total.sort_values(by='total_years', ascending=False).head(25)"
   ]
  },
  {
   "attachments": {},
   "cell_type": "markdown",
   "metadata": {},
   "source": [
    "In the table above, we have a list of 25 stations ranked in terms of the total number of years in which measurements were carried out. For most places, the snow occurence ratio is in the range of 0.2-0.4, which means that snow occurs on average ***every 3-5 years*** for Christmas.\n",
    "\n",
    "Weather stations are located in different parts of Poland and the snow occurence ratio will probably not be the same everywhere. It is best to visualize such data on a map, which will be done in the next notebook."
   ]
  }
 ],
 "metadata": {
  "kernelspec": {
   "display_name": "py37",
   "language": "python",
   "name": "python3"
  },
  "language_info": {
   "codemirror_mode": {
    "name": "ipython",
    "version": 3
   },
   "file_extension": ".py",
   "mimetype": "text/x-python",
   "name": "python",
   "nbconvert_exporter": "python",
   "pygments_lexer": "ipython3",
   "version": "3.8.0 | packaged by conda-forge | (default, Nov 22 2019, 19:04:36) [MSC v.1916 64 bit (AMD64)]"
  },
  "orig_nbformat": 4,
  "vscode": {
   "interpreter": {
    "hash": "85da77a6c34ef142944e784841fbbb6104852b3738e41e127ce158f477359216"
   }
  }
 },
 "nbformat": 4,
 "nbformat_minor": 2
}
